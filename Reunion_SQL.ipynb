{
  "nbformat": 4,
  "nbformat_minor": 0,
  "metadata": {
    "colab": {
      "provenance": [],
      "include_colab_link": true
    },
    "kernelspec": {
      "name": "python3",
      "display_name": "Python 3"
    },
    "language_info": {
      "name": "python"
    }
  },
  "cells": [
    {
      "cell_type": "markdown",
      "metadata": {
        "id": "view-in-github",
        "colab_type": "text"
      },
      "source": [
        "<a href=\"https://colab.research.google.com/github/Santhoshstark06/.github/blob/main/Reunion_SQL.ipynb\" target=\"_parent\"><img src=\"https://colab.research.google.com/assets/colab-badge.svg\" alt=\"Open In Colab\"/></a>"
      ]
    },
    {
      "cell_type": "code",
      "execution_count": 2,
      "metadata": {
        "id": "LZi16z7lOIQA",
        "colab": {
          "base_uri": "https://localhost:8080/"
        },
        "outputId": "ab4b6876-f4a5-4834-9d5e-296802d9c81a"
      },
      "outputs": [
        {
          "output_type": "stream",
          "name": "stdout",
          "text": [
            "Opened database successfully\n",
            "Table created successfully\n"
          ]
        }
      ],
      "source": [
        "import sqlite3\n",
        "\n",
        "conn = sqlite3.connect('test.db')\n",
        "print(\"Opened database successfully\");\n",
        "\n",
        "conn.execute('''CREATE TABLE products (\n",
        "    product_id INT PRIMARY KEY,\n",
        "    product_name VARCHAR(255)\n",
        ");''')\n",
        "\n",
        "conn.commit()\n",
        "\n",
        "print(\"Table created successfully\");"
      ]
    },
    {
      "cell_type": "code",
      "source": [
        "conn.execute('''CREATE TABLE product_variants (\n",
        "    variant_id INT PRIMARY KEY,\n",
        "    product_id INT,\n",
        "    variant_name VARCHAR(255),\n",
        "    FOREIGN KEY (product_id) REFERENCES products(product_id)\n",
        ");''')\n",
        "\n",
        "conn.commit()\n",
        "\n",
        "print(\"Table created successfully\");"
      ],
      "metadata": {
        "id": "8iSC7RILJ-mx",
        "colab": {
          "base_uri": "https://localhost:8080/"
        },
        "outputId": "6c7aae0e-7820-4019-f501-257619a6ba24"
      },
      "execution_count": 3,
      "outputs": [
        {
          "output_type": "stream",
          "name": "stdout",
          "text": [
            "Table created successfully\n"
          ]
        }
      ]
    },
    {
      "cell_type": "code",
      "source": [
        "conn.execute('''CREATE TABLE customers (\n",
        "    customer_id INT PRIMARY KEY,\n",
        "    customer_name VARCHAR(255),\n",
        "    shipping_address VARCHAR(255),\n",
        "    contact_number VARCHAR(20)\n",
        ");''')\n",
        "\n",
        "conn.commit()\n",
        "\n",
        "print(\"Table created successfully\");"
      ],
      "metadata": {
        "colab": {
          "base_uri": "https://localhost:8080/"
        },
        "id": "u9eIopKwBxPn",
        "outputId": "73969d97-d7da-42d1-816a-19ded3b40668"
      },
      "execution_count": 4,
      "outputs": [
        {
          "output_type": "stream",
          "name": "stdout",
          "text": [
            "Table created successfully\n"
          ]
        }
      ]
    },
    {
      "cell_type": "code",
      "source": [
        "conn.execute('''CREATE TABLE orders (\n",
        "    order_id INT PRIMARY KEY,\n",
        "    customer_id INT,\n",
        "    order_date DATE,\n",
        "    order_amount DECIMAL(10, 2),\n",
        "    FOREIGN KEY (customer_id) REFERENCES customers(customer_id)\n",
        ");''')\n",
        "\n",
        "conn.commit()\n",
        "\n",
        "print(\"Table created successfully\");"
      ],
      "metadata": {
        "colab": {
          "base_uri": "https://localhost:8080/"
        },
        "id": "Nx6pn1CWBxST",
        "outputId": "78761f9b-7147-4691-a2fc-d8d7b566d907"
      },
      "execution_count": 5,
      "outputs": [
        {
          "output_type": "stream",
          "name": "stdout",
          "text": [
            "Table created successfully\n"
          ]
        }
      ]
    },
    {
      "cell_type": "code",
      "source": [
        "conn.execute('''CREATE TABLE order_items (\n",
        "    item_id INT PRIMARY KEY,\n",
        "    order_id INT,\n",
        "    variant_id INT,\n",
        "    quantity INT,\n",
        "    FOREIGN KEY (order_id) REFERENCES orders(order_id),\n",
        "    FOREIGN KEY (variant_id) REFERENCES product_variants(variant_id)\n",
        ");''')\n",
        "\n",
        "conn.commit()\n",
        "\n",
        "print(\"Table created successfully\");"
      ],
      "metadata": {
        "colab": {
          "base_uri": "https://localhost:8080/"
        },
        "id": "leB-Asz_BxVK",
        "outputId": "1c948520-7ea8-4cb1-e4c2-65b4406fc971"
      },
      "execution_count": 6,
      "outputs": [
        {
          "output_type": "stream",
          "name": "stdout",
          "text": [
            "Table created successfully\n"
          ]
        }
      ]
    },
    {
      "cell_type": "code",
      "source": [
        "conn.execute('''INSERT INTO products (product_id, product_name)\n",
        "VALUES\n",
        "    (1, 'Product A'),\n",
        "    (2, 'Product B'),\n",
        "    (3, 'Product C'),\n",
        "    (4, 'Product D'),\n",
        "    (5, 'Product E'),\n",
        "    (6, 'Product F'),\n",
        "    (7, 'Product G'),\n",
        "    (8, 'Product H'),\n",
        "    (9, 'Product I'),\n",
        "    (10, 'Product J');\n",
        "''')\n",
        "\n",
        "conn.execute('''INSERT INTO product_variants (variant_id, product_id, variant_name)\n",
        "VALUES\n",
        "    (1, 1, 'Variant 1'),\n",
        "    (2, 1, 'Variant 2'),\n",
        "    (3, 2, 'Variant 1'),\n",
        "    (4, 2, 'Variant 2'),\n",
        "    (5, 3, 'Variant 1'),\n",
        "    (6, 3, 'Variant 2'),\n",
        "    (7, 4, 'Variant 1'),\n",
        "    (8, 5, 'Variant 1'),\n",
        "    (9, 6, 'Variant 1'),\n",
        "    (10, 7, 'Variant 1'),\n",
        "    (11, 7, 'Variant 2'),\n",
        "    (12, 7, 'Variant 3'),\n",
        "    (13, 8, 'Variant 1'),\n",
        "    (14, 9, 'Variant 1'),\n",
        "    (15, 9, 'Variant 2'),\n",
        "    (16, 9, 'Variant 3'),\n",
        "    (17, 10, 'Variant 1');\n",
        "''')\n",
        "\n",
        "conn.execute('''INSERT INTO customers (customer_id, customer_name, shipping_address, contact_number)\n",
        "VALUES\n",
        "    (1, 'John Doe', '123 Main St, City', '123-456-7890'),\n",
        "    (2, 'Jane Smith', '456 Elm St, City', '987-654-3210'),\n",
        "    (3, 'Alice Johnson', '789 Oak St, City', '555-555-5555'),\n",
        "    (4, 'Michael Brown', '567 Pine St, City', '111-222-3333'),\n",
        "    (5, 'Sarah Wilson', '789 Maple St, City', '444-555-6666'),\n",
        "    (6, 'David Davis', '234 Oak St, City', '777-888-9999'),\n",
        "    (7, 'Emily Taylor', '890 Elm St, City', '000-111-2222'),\n",
        "    (8, 'Andrew Clark', '456 Walnut St, City', '333-444-5555'),\n",
        "    (9, 'Olivia Anderson', '345 Cedar St, City', '666-777-8888'),\n",
        "    (10, 'Sophia Allen', '901 Birch St, City', '999-000-1111');\n",
        "''')\n",
        "\n",
        "conn.execute('''INSERT INTO orders (order_id, customer_id, order_date, order_amount)\n",
        "VALUES\n",
        "    (1, 1, '2023-01-01', 100.00),\n",
        "    (2, 1, '2023-02-15', 150.00),\n",
        "    (3, 2, '2023-03-10', 75.00),\n",
        "    (4, 2, '2023-05-20', 200.00),\n",
        "    (5, 3, '2023-06-05', 50.00),\n",
        "    (6, 3, '2023-07-10', 300.00),\n",
        "    (7, 4, '2023-01-20', 80.00),\n",
        "    (8, 4, '2023-04-05', 120.00),\n",
        "    (9, 5, '2023-06-15', 250.00),\n",
        "    (10, 5, '2023-07-01', 180.00),\n",
        "    (11, 6, '2023-02-28', 90.00),\n",
        "    (12, 6, '2023-06-30', 200.00),\n",
        "    (13, 7, '2023-03-15', 70.00),\n",
        "    (14, 7, '2023-04-20', 300.00),\n",
        "    (15, 8, '2023-05-10', 180.00),\n",
        "    (16, 9, '2023-05-25', 120.00),\n",
        "    (17, 9, '2023-07-05', 250.00),\n",
        "    (18, 10, '2023-03-01', 150.00),\n",
        "    (19, 10, '2023-07-12', 220.00);\n",
        "''')\n",
        "\n",
        "conn.execute('''INSERT INTO order_items (item_id, order_id, variant_id, quantity)\n",
        "VALUES\n",
        "    (1, 1, 1, 2),\n",
        "    (2, 1, 2, 3),\n",
        "    (3, 2, 1, 1),\n",
        "    (4, 2, 2, 2),\n",
        "    (5, 3, 3, 2),\n",
        "    (6, 4, 4, 4),\n",
        "    (7, 5, 5, 3),\n",
        "    (8, 6, 6, 1),\n",
        "    (9, 6, 7, 2),\n",
        "    (10, 7, 8, 3),\n",
        "    (11, 8, 9, 2),\n",
        "    (12, 9, 10, 5),\n",
        "    (13, 10, 11, 1),\n",
        "    (14, 11, 12, 2),\n",
        "    (15, 12, 13, 3),\n",
        "    (16, 12, 14, 1),\n",
        "    (17, 13, 15, 2),\n",
        "    (18, 13, 16, 4),\n",
        "    (19, 14, 17, 3),\n",
        "    (20, 14, 2, 1),\n",
        "    (21, 15, 3, 2),\n",
        "    (22, 15, 4, 3),\n",
        "    (23, 16, 5, 1),\n",
        "    (24, 16, 6, 2),\n",
        "    (25, 17, 7, 3),\n",
        "    (26, 17, 8, 1),\n",
        "    (27, 18, 9, 2),\n",
        "    (28, 18, 10, 4),\n",
        "    (29, 19, 11, 3),\n",
        "    (30, 19, 12, 1);\n",
        "''')\n",
        "\n",
        "conn.commit()\n",
        "\n",
        "print(\"Data inserted successfully\");"
      ],
      "metadata": {
        "colab": {
          "base_uri": "https://localhost:8080/"
        },
        "id": "Fp8PQZDwCD4v",
        "outputId": "c95b1b3d-6326-4d62-8ed5-3a57340d362c"
      },
      "execution_count": 7,
      "outputs": [
        {
          "output_type": "stream",
          "name": "stdout",
          "text": [
            "Data inserted successfully\n"
          ]
        }
      ]
    },
    {
      "cell_type": "code",
      "source": [
        "conn.execute('''INSERT INTO orders (order_id, customer_id, order_date, order_amount)\n",
        "VALUES\n",
        "    (1, 1, '2023-01-01', 100.00),\n",
        "    (2, 1, '2023-02-15', 150.00),\n",
        "    (3, 2, '2023-03-10', 75.00),\n",
        "    (4, 2, '2023-05-20', 200.00),\n",
        "    (5, 3, '2023-06-05', 50.00),\n",
        "    (6, 3, '2023-07-10', 300.00),\n",
        "    (7, 4, '2023-01-20', 80.00),\n",
        "    (8, 4, '2023-04-05', 120.00),\n",
        "    (9, 5, '2023-06-15', 250.00),\n",
        "    (10, 5, '2023-07-01', 180.00),\n",
        "    (11, 6, '2023-02-28', 90.00),\n",
        "    (12, 6, '2023-06-30', 200.00),\n",
        "    (13, 7, '2023-03-15', 70.00),\n",
        "    (14, 7, '2023-04-20', 300.00),\n",
        "    (15, 8, '2023-05-10', 180.00),\n",
        "    (16, 9, '2023-05-25', 120.00),\n",
        "    (17, 9, '2023-07-05', 250.00),\n",
        "    (18, 10, '2023-03-01', 150.00),\n",
        "    (19, 10, '2023-07-12', 220.00),\n",
        "    (20, 1, '2022-03-10', 120.00),\n",
        "    (21, 2, '2022-04-05', 90.00),\n",
        "    (22, 3, '2022-05-15', 150.00),\n",
        "    (23, 4, '2022-06-20', 200.00),\n",
        "    (24, 5, '2022-07-05', 80.00),\n",
        "    (25, 6, '2022-08-15', 110.00),\n",
        "    (26, 7, '2022-09-10', 70.00),\n",
        "    (27, 8, '2022-10-25', 180.00),\n",
        "    (28, 9, '2022-11-20', 130.00),\n",
        "    (29, 10, '2022-12-05', 160.00);\n",
        "''')\n",
        "\n",
        "conn.commit()\n",
        "\n",
        "print(\"Data inserted successfully\");"
      ],
      "metadata": {
        "colab": {
          "base_uri": "https://localhost:8080/",
          "height": 235
        },
        "id": "tpLWwuR0CD7y",
        "outputId": "413b8341-8d29-4e2b-a13d-2b9e2f3b7d80"
      },
      "execution_count": 8,
      "outputs": [
        {
          "output_type": "error",
          "ename": "IntegrityError",
          "evalue": "ignored",
          "traceback": [
            "\u001b[0;31m---------------------------------------------------------------------------\u001b[0m",
            "\u001b[0;31mIntegrityError\u001b[0m                            Traceback (most recent call last)",
            "\u001b[0;32m<ipython-input-8-b1ce20ed76d1>\u001b[0m in \u001b[0;36m<cell line: 1>\u001b[0;34m()\u001b[0m\n\u001b[0;32m----> 1\u001b[0;31m conn.execute('''INSERT INTO orders (order_id, customer_id, order_date, order_amount)\n\u001b[0m\u001b[1;32m      2\u001b[0m \u001b[0mVALUES\u001b[0m\u001b[0;34m\u001b[0m\u001b[0;34m\u001b[0m\u001b[0m\n\u001b[1;32m      3\u001b[0m     \u001b[0;34m(\u001b[0m\u001b[0;36m1\u001b[0m\u001b[0;34m,\u001b[0m \u001b[0;36m1\u001b[0m\u001b[0;34m,\u001b[0m \u001b[0;34m'2023-01-01'\u001b[0m\u001b[0;34m,\u001b[0m \u001b[0;36m100.00\u001b[0m\u001b[0;34m)\u001b[0m\u001b[0;34m,\u001b[0m\u001b[0;34m\u001b[0m\u001b[0;34m\u001b[0m\u001b[0m\n\u001b[1;32m      4\u001b[0m     \u001b[0;34m(\u001b[0m\u001b[0;36m2\u001b[0m\u001b[0;34m,\u001b[0m \u001b[0;36m1\u001b[0m\u001b[0;34m,\u001b[0m \u001b[0;34m'2023-02-15'\u001b[0m\u001b[0;34m,\u001b[0m \u001b[0;36m150.00\u001b[0m\u001b[0;34m)\u001b[0m\u001b[0;34m,\u001b[0m\u001b[0;34m\u001b[0m\u001b[0;34m\u001b[0m\u001b[0m\n\u001b[1;32m      5\u001b[0m     \u001b[0;34m(\u001b[0m\u001b[0;36m3\u001b[0m\u001b[0;34m,\u001b[0m \u001b[0;36m2\u001b[0m\u001b[0;34m,\u001b[0m \u001b[0;34m'2023-03-10'\u001b[0m\u001b[0;34m,\u001b[0m \u001b[0;36m75.00\u001b[0m\u001b[0;34m)\u001b[0m\u001b[0;34m,\u001b[0m\u001b[0;34m\u001b[0m\u001b[0;34m\u001b[0m\u001b[0m\n",
            "\u001b[0;31mIntegrityError\u001b[0m: UNIQUE constraint failed: orders.order_id"
          ]
        }
      ]
    },
    {
      "cell_type": "code",
      "source": [
        "# 1. Retrieve the top 5 customers who have made the highest average order amounts in the last 6 months. The average order amount should be calculated for each customer, and the result should be sorted in descending order.\n",
        "\n",
        "cursor = conn.execute('''SELECT c.customer_id, c.customer_name, AVG(o.order_amount) AS average_order_amount\n",
        "FROM customers c\n",
        "JOIN orders o ON c.customer_id = o.customer_id\n",
        "WHERE o.order_date >= date('now', '-6 months')\n",
        "GROUP BY c.customer_id, c.customer_name\n",
        "ORDER BY average_order_amount DESC\n",
        "LIMIT 5;\n",
        "''')\n",
        "\n",
        "for row in cursor:\n",
        "  print(row)"
      ],
      "metadata": {
        "colab": {
          "base_uri": "https://localhost:8080/"
        },
        "id": "tOYl0bAQCLGV",
        "outputId": "58673264-859b-4b01-c154-4eb065c11de7"
      },
      "execution_count": 9,
      "outputs": [
        {
          "output_type": "stream",
          "name": "stdout",
          "text": [
            "(5, 'Sarah Wilson', 215.0)\n",
            "(7, 'Emily Taylor', 185.0)\n",
            "(9, 'Olivia Anderson', 185.0)\n",
            "(10, 'Sophia Allen', 185.0)\n",
            "(8, 'Andrew Clark', 180.0)\n"
          ]
        }
      ]
    },
    {
      "cell_type": "code",
      "source": [
        "# 2. Retrieve the list of customer whose order value is lower this year as compared to previous year.\n",
        "\n",
        "cursor = conn.execute('''SELECT c.customer_id, c.customer_name\n",
        "FROM customers c\n",
        "JOIN orders o1 ON c.customer_id = o1.customer_id\n",
        "JOIN orders o2 ON c.customer_id = o2.customer_id\n",
        "WHERE strftime('%Y', o1.order_date) = strftime('%Y', 'now', '-1 year')\n",
        "  AND strftime('%Y', o2.order_date) = strftime('%Y', 'now')\n",
        "GROUP BY c.customer_id, c.customer_name\n",
        "HAVING SUM(o2.order_amount) < SUM(o1.order_amount);\n",
        "''')\n",
        "\n",
        "for row in cursor:\n",
        "  print(row)"
      ],
      "metadata": {
        "id": "N5ubAcO_CSej"
      },
      "execution_count": 12,
      "outputs": []
    },
    {
      "cell_type": "code",
      "source": [
        "conn.execute('''CREATE TABLE cumulative_purchase (\n",
        "    customer_id INTEGER,\n",
        "    order_date DATE,\n",
        "    cumulative_amount NUMERIC,\n",
        "    PRIMARY KEY (customer_id, order_date),\n",
        "    FOREIGN KEY (customer_id) REFERENCES customers(customer_id)\n",
        ");\n",
        "''')\n",
        "\n",
        "conn.commit()\n",
        "\n",
        "print(\"Table created successfully\")"
      ],
      "metadata": {
        "colab": {
          "base_uri": "https://localhost:8080/"
        },
        "id": "53U-LxnQCTWg",
        "outputId": "bf8e3cb4-b4a6-4ef4-89ce-13701997962f"
      },
      "execution_count": 11,
      "outputs": [
        {
          "output_type": "stream",
          "name": "stdout",
          "text": [
            "Table created successfully\n"
          ]
        }
      ]
    },
    {
      "cell_type": "code",
      "source": [
        "conn.execute('''INSERT INTO cumulative_purchase (customer_id, order_date, cumulative_amount)\n",
        "SELECT\n",
        "    o.customer_id,\n",
        "    o.order_date,\n",
        "    SUM(o2.order_amount) AS cumulative_amount\n",
        "FROM\n",
        "    orders o\n",
        "JOIN\n",
        "    orders o2 ON o.customer_id = o2.customer_id AND o.order_date >= o2.order_date\n",
        "GROUP BY\n",
        "    o.customer_id,\n",
        "    o.order_date;\n",
        "''')\n",
        "\n",
        "conn.commit()\n",
        "\n",
        "print(\"Data inserted successfully\")"
      ],
      "metadata": {
        "colab": {
          "base_uri": "https://localhost:8080/"
        },
        "id": "s1E0p8oeCQOx",
        "outputId": "30f80e9c-a12c-4427-e08f-2cc24f6df20d"
      },
      "execution_count": 13,
      "outputs": [
        {
          "output_type": "stream",
          "name": "stdout",
          "text": [
            "Data inserted successfully\n"
          ]
        }
      ]
    },
    {
      "cell_type": "code",
      "source": [
        "# 3. Create a table showing cumulative purchase by a particular customer.\n",
        "\n",
        "# NOTE: Creation of this table and inserting values into it has been done in the previous two queries.\n",
        "\n",
        "cursor = conn.execute(\"SELECT * FROM cumulative_purchase;\")\n",
        "\n",
        "for row in cursor:\n",
        "  print(row)"
      ],
      "metadata": {
        "colab": {
          "base_uri": "https://localhost:8080/"
        },
        "id": "Rb6bNbC2Cbb_",
        "outputId": "cb7c75e3-b131-4e38-de40-57a5a107c47c"
      },
      "execution_count": 14,
      "outputs": [
        {
          "output_type": "stream",
          "name": "stdout",
          "text": [
            "(1, '2023-01-01', 100)\n",
            "(1, '2023-02-15', 250)\n",
            "(2, '2023-03-10', 75)\n",
            "(2, '2023-05-20', 275)\n",
            "(3, '2023-06-05', 50)\n",
            "(3, '2023-07-10', 350)\n",
            "(4, '2023-01-20', 80)\n",
            "(4, '2023-04-05', 200)\n",
            "(5, '2023-06-15', 250)\n",
            "(5, '2023-07-01', 430)\n",
            "(6, '2023-02-28', 90)\n",
            "(6, '2023-06-30', 290)\n",
            "(7, '2023-03-15', 70)\n",
            "(7, '2023-04-20', 370)\n",
            "(8, '2023-05-10', 180)\n",
            "(9, '2023-05-25', 120)\n",
            "(9, '2023-07-05', 370)\n",
            "(10, '2023-03-01', 150)\n",
            "(10, '2023-07-12', 370)\n"
          ]
        }
      ]
    },
    {
      "cell_type": "code",
      "source": [
        "# 4. Retrieve the list of top 5 selling products. Further bifurcate the sales by product variants.\n",
        "\n",
        "cursor = conn.execute('''SELECT p.product_id, p.product_name, pv.variant_name, SUM(oi.quantity) AS total_quantity\n",
        "FROM products p\n",
        "JOIN product_variants pv ON p.product_id = pv.product_id\n",
        "JOIN order_items oi ON pv.variant_id = oi.variant_id\n",
        "GROUP BY p.product_id, p.product_name, pv.variant_name\n",
        "ORDER BY total_quantity DESC\n",
        "LIMIT 5;\n",
        "''')\n",
        "\n",
        "for row in cursor:\n",
        "  print(row)"
      ],
      "metadata": {
        "colab": {
          "base_uri": "https://localhost:8080/"
        },
        "id": "1fvoX_l3Cg_j",
        "outputId": "6144c89b-50d9-4278-8b84-f478dac22cad"
      },
      "execution_count": 15,
      "outputs": [
        {
          "output_type": "stream",
          "name": "stdout",
          "text": [
            "(7, 'Product G', 'Variant 1', 9)\n",
            "(2, 'Product B', 'Variant 2', 7)\n",
            "(1, 'Product A', 'Variant 2', 6)\n",
            "(4, 'Product D', 'Variant 1', 5)\n",
            "(2, 'Product B', 'Variant 1', 4)\n"
          ]
        }
      ]
    }
  ]
}